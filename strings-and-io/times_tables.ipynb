{
 "cells": [
  {
   "cell_type": "markdown",
   "id": "242d2152-1c8b-47df-8622-40300c8fbc88",
   "metadata": {},
   "source": [
    "# Times tables\n",
    "This program prints the times table of a given number, starting from 2 and going up by even numbers until the user interrupts the program.\n"
   ]
  },
  {
   "cell_type": "code",
   "execution_count": 5,
   "id": "5a9078f4-a54a-4bb8-916b-0c2ed021f1a7",
   "metadata": {},
   "outputs": [],
   "source": [
    "import time\n",
    "\n",
    "\n",
    "def print_multiplications(table: int) -> None:\n",
    "    \"\"\"\n",
    "    params:\n",
    "        table: int - the number for which the times table is to be printed.\n",
    "    returns:\n",
    "        None\n",
    "    \"\"\"\n",
    "    i = 2\n",
    "    print(\"Press the stop button to stop the program.\")\n",
    "    print(f\"The even table for {table} is:\")\n",
    "    while True:\n",
    "        # format the string so that the output is aligned no\n",
    "        # matter the number (up to 3 digits)\n",
    "        print(f\"\\t{i:>3} times {table} is {table * i}\")\n",
    "        # sleep for 1 second so the user has time to read the output\n",
    "        time.sleep(1)\n",
    "        i += 2\n",
    "\n",
    "\n",
    "def times_tables():\n",
    "    multiple = int(input(\"Enter the number of the table you want to see: \"))\n",
    "    print_multiplications(multiple)\n"
   ]
  },
  {
   "cell_type": "code",
   "execution_count": 6,
   "id": "c9b113b5-84c6-4685-aa9c-e54c44079b87",
   "metadata": {},
   "outputs": [
    {
     "name": "stdin",
     "output_type": "stream",
     "text": [
      "Enter the number of the table you want to see:  4\n"
     ]
    },
    {
     "name": "stdout",
     "output_type": "stream",
     "text": [
      "Press Ctrl+C to stop the program.\n",
      "The even table for 4 is:\n",
      "\t  2 times 4 is 8\n",
      "\t  4 times 4 is 16\n",
      "\t  6 times 4 is 24\n",
      "\t  8 times 4 is 32\n"
     ]
    },
    {
     "ename": "KeyboardInterrupt",
     "evalue": "",
     "output_type": "error",
     "traceback": [
      "\u001b[0;31m---------------------------------------------------------------------------\u001b[0m",
      "\u001b[0;31mKeyboardInterrupt\u001b[0m                         Traceback (most recent call last)",
      "Cell \u001b[0;32mIn[6], line 1\u001b[0m\n\u001b[0;32m----> 1\u001b[0m \u001b[43mtimes_tables\u001b[49m\u001b[43m(\u001b[49m\u001b[43m)\u001b[49m\n",
      "Cell \u001b[0;32mIn[5], line 25\u001b[0m, in \u001b[0;36mtimes_tables\u001b[0;34m()\u001b[0m\n\u001b[1;32m     23\u001b[0m \u001b[38;5;28;01mdef\u001b[39;00m \u001b[38;5;21mtimes_tables\u001b[39m():\n\u001b[1;32m     24\u001b[0m     multiple \u001b[38;5;241m=\u001b[39m \u001b[38;5;28mint\u001b[39m(\u001b[38;5;28minput\u001b[39m(\u001b[38;5;124m\"\u001b[39m\u001b[38;5;124mEnter the number of the table you want to see: \u001b[39m\u001b[38;5;124m\"\u001b[39m))\n\u001b[0;32m---> 25\u001b[0m     \u001b[43mprint_multiplications\u001b[49m\u001b[43m(\u001b[49m\u001b[43mmultiple\u001b[49m\u001b[43m)\u001b[49m\n",
      "Cell \u001b[0;32mIn[5], line 19\u001b[0m, in \u001b[0;36mprint_multiplications\u001b[0;34m(table)\u001b[0m\n\u001b[1;32m     17\u001b[0m \u001b[38;5;28mprint\u001b[39m(\u001b[38;5;124mf\u001b[39m\u001b[38;5;124m\"\u001b[39m\u001b[38;5;130;01m\\t\u001b[39;00m\u001b[38;5;132;01m{\u001b[39;00mi\u001b[38;5;132;01m:\u001b[39;00m\u001b[38;5;124m>3\u001b[39m\u001b[38;5;132;01m}\u001b[39;00m\u001b[38;5;124m times \u001b[39m\u001b[38;5;132;01m{\u001b[39;00mtable\u001b[38;5;132;01m}\u001b[39;00m\u001b[38;5;124m is \u001b[39m\u001b[38;5;132;01m{\u001b[39;00mtable\u001b[38;5;250m \u001b[39m\u001b[38;5;241m*\u001b[39m\u001b[38;5;250m \u001b[39mi\u001b[38;5;132;01m}\u001b[39;00m\u001b[38;5;124m\"\u001b[39m)\n\u001b[1;32m     18\u001b[0m \u001b[38;5;66;03m# sleep for 1 second so the user has time to read the output\u001b[39;00m\n\u001b[0;32m---> 19\u001b[0m \u001b[43mtime\u001b[49m\u001b[38;5;241;43m.\u001b[39;49m\u001b[43msleep\u001b[49m\u001b[43m(\u001b[49m\u001b[38;5;241;43m1\u001b[39;49m\u001b[43m)\u001b[49m\n\u001b[1;32m     20\u001b[0m i \u001b[38;5;241m+\u001b[39m\u001b[38;5;241m=\u001b[39m \u001b[38;5;241m2\u001b[39m\n",
      "\u001b[0;31mKeyboardInterrupt\u001b[0m: "
     ]
    }
   ],
   "source": [
    "times_tables()"
   ]
  }
 ],
 "metadata": {
  "kernelspec": {
   "display_name": "Python 3 (ipykernel)",
   "language": "python",
   "name": "python3"
  },
  "language_info": {
   "codemirror_mode": {
    "name": "ipython",
    "version": 3
   },
   "file_extension": ".py",
   "mimetype": "text/x-python",
   "name": "python",
   "nbconvert_exporter": "python",
   "pygments_lexer": "ipython3",
   "version": "3.12.5"
  }
 },
 "nbformat": 4,
 "nbformat_minor": 5
}
