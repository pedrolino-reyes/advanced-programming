{
 "cells": [
  {
   "cell_type": "markdown",
   "id": "7ca983fd-dad1-4bc8-a3b2-28d37b6501d8",
   "metadata": {},
   "source": [
    "# Month calendar\n",
    "\n",
    "Prints a calendar, given the number of days in the month and the day of the week on which the month starts (where Sunday is 7 and Monday is 1)."
   ]
  },
  {
   "cell_type": "code",
   "execution_count": 3,
   "id": "1153a21f-ed6c-4266-85ad-46c654680135",
   "metadata": {},
   "outputs": [],
   "source": [
    "def print_calendar(month_days: int, start_day: int):\n",
    "    \"\"\"\n",
    "    params:\n",
    "        month_days: int - the number of days in the month.\n",
    "        start_day: int - the day of the week on which the month starts.\n",
    "          (Sunday is 7 and Monday is 1)\n",
    "    returns:\n",
    "        None\n",
    "    \"\"\"\n",
    "    # print the days in the header row\n",
    "    print(\"Mon Tue Wed Thu Fri Sat Sun\")\n",
    "\n",
    "    # print the correct number of spaces for the start of the first row\n",
    "    print(\"    \" * (start_day - 1), end=\"\")\n",
    "\n",
    "    # print each of the days of the month\n",
    "    for day in range(1, month_days + 1):\n",
    "        print(f\"{day:3}\", end=\" \")\n",
    "\n",
    "        # Check if we’ve reached Sunday to move to a new line\n",
    "        if (day + start_day - 1) % 7 == 0:\n",
    "            print()  # Start a new week\n",
    "\n",
    "    print()  # Final newline at the end of the calendar\n",
    "\n",
    "\n",
    "def month_calendar():\n",
    "    # this is the main routine to call\n",
    "    month = int(input(\"Enter the number of days in the month: \"))\n",
    "    day = int(input(\"Enter the day of the week on which the month starts: \"))\n",
    "    print_calendar(month, day)\n"
   ]
  },
  {
   "cell_type": "code",
   "execution_count": 4,
   "id": "8b4668d9-2772-47d8-a2f1-f68db8a9da3b",
   "metadata": {},
   "outputs": [
    {
     "name": "stdin",
     "output_type": "stream",
     "text": [
      "Enter the number of days in the month:  30\n",
      "Enter the day of the week on which the month starts:  4\n"
     ]
    },
    {
     "name": "stdout",
     "output_type": "stream",
     "text": [
      "Mon Tue Wed Thu Fri Sat Sun\n",
      "              1   2   3   4 \n",
      "  5   6   7   8   9  10  11 \n",
      " 12  13  14  15  16  17  18 \n",
      " 19  20  21  22  23  24  25 \n",
      " 26  27  28  29  30 \n"
     ]
    }
   ],
   "source": [
    "month_calendar()"
   ]
  }
 ],
 "metadata": {
  "kernelspec": {
   "display_name": "Python 3 (ipykernel)",
   "language": "python",
   "name": "python3"
  },
  "language_info": {
   "codemirror_mode": {
    "name": "ipython",
    "version": 3
   },
   "file_extension": ".py",
   "mimetype": "text/x-python",
   "name": "python",
   "nbconvert_exporter": "python",
   "pygments_lexer": "ipython3",
   "version": "3.12.5"
  }
 },
 "nbformat": 4,
 "nbformat_minor": 5
}
