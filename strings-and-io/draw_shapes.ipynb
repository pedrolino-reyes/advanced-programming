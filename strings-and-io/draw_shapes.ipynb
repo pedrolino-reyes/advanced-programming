{
 "cells": [
  {
   "cell_type": "markdown",
   "id": "7f05ff0d-a874-48d0-921c-20e05e578e52",
   "metadata": {},
   "source": [
    "# Draw shapes\n",
    "Simple program that can draw a left-sided triangle, a right-sided triangle, or a diamond, using whichever character the user chooses."
   ]
  },
  {
   "cell_type": "code",
   "execution_count": 3,
   "id": "f3c4499a-9deb-45d1-9244-c0d22f27d1f3",
   "metadata": {},
   "outputs": [],
   "source": [
    "from typing import Callable\n",
    "\n",
    "def left_triangle(height: int, char: str) -> None:\n",
    "    \"\"\"\n",
    "    params:\n",
    "        height: int - the height of the triangle.\n",
    "        char: str - the character to be used to draw the triangle.\n",
    "    returns:\n",
    "        None\n",
    "    \"\"\"\n",
    "    for i in range(1, height + 1):\n",
    "        print(char * i)\n",
    "\n",
    "\n",
    "def right_triangle(height: int, char: str) -> None:\n",
    "    \"\"\"\n",
    "    params:\n",
    "        height: int - the height of the triangle.\n",
    "        char: str - the character to be used to draw the triangle.\n",
    "    returns:\n",
    "        None\n",
    "    \"\"\"\n",
    "    for i in range(1, height + 1):\n",
    "        print(\" \" * (height - i) + char * i)\n",
    "\n",
    "\n",
    "def diamond(height: int, char: str) -> None:\n",
    "    \"\"\"\n",
    "    params:\n",
    "        height: int - the height of the diamond.\n",
    "        char: str - the character to be used to draw the diamond.\n",
    "    returns:\n",
    "        None\n",
    "    \"\"\"\n",
    "    # if the height is even, make it odd so the diamond is symmetrical\n",
    "    if height % 2 == 0:\n",
    "        height += 1\n",
    "\n",
    "    # draw the top half of the diamond\n",
    "    for i in range(1, height + 1, 2):\n",
    "        print(\" \" * ((height - i) // 2) + char * i)\n",
    "    # draw the bottom half of the diamond\n",
    "    for i in range(height - 2, 0, -2):\n",
    "        print(\" \" * ((height - i) // 2) + char * i)\n",
    "\n",
    "\n",
    "def offer_choices() -> Callable[[int, str], None]:\n",
    "    \"\"\"\n",
    "    Displays the shape choices and their number, and asks the user to\n",
    "    make a choice.\n",
    "\n",
    "    returns:\n",
    "        function - the shape-drawing function chosen by the user.\n",
    "    \"\"\"\n",
    "    options = {\n",
    "        1: left_triangle,\n",
    "        2: right_triangle,\n",
    "        3: diamond,\n",
    "    }\n",
    "\n",
    "    while True:\n",
    "        print(\"Choose the number of the shape you want to draw:\")\n",
    "        print(\"\\t1. Left-sided triangle\")\n",
    "        print(\"\\t2. Right-sided triangle\")\n",
    "        print(\"\\t3. Diamond\")\n",
    "        choice = int(input(\"\\nEnter your choice: \"))\n",
    "        if choice in [1, 2, 3]:\n",
    "            return options[choice]\n",
    "        print(\"Invalid choice. Please select either 1, 2, or 3.\")\n",
    "\n",
    "\n",
    "def draw_shapes():\n",
    "    while True:\n",
    "        shape_function = offer_choices()\n",
    "        height = int(input(\"Enter the height of the shape: \"))\n",
    "        char = input(\"Enter the character to use: \")\n",
    "        shape_function(height, char)\n",
    "        if input(\n",
    "            \"Enter y to draw another shape (any other character to exit): \")\\\n",
    "                != \"y\": break\n"
   ]
  },
  {
   "cell_type": "code",
   "execution_count": 4,
   "id": "174f85d0-a30c-4e91-8e32-523d5e6ceb08",
   "metadata": {},
   "outputs": [
    {
     "name": "stdout",
     "output_type": "stream",
     "text": [
      "Choose the number of the shape you want to draw:\n",
      "\t1. Left-sided triangle\n",
      "\t2. Right-sided triangle\n",
      "\t3. Diamond\n"
     ]
    },
    {
     "name": "stdin",
     "output_type": "stream",
     "text": [
      "\n",
      "Enter your choice:  1\n",
      "Enter the height of the shape:  5\n",
      "Enter the character to use:  %\n"
     ]
    },
    {
     "name": "stdout",
     "output_type": "stream",
     "text": [
      "%\n",
      "%%\n",
      "%%%\n",
      "%%%%\n",
      "%%%%%\n"
     ]
    },
    {
     "name": "stdin",
     "output_type": "stream",
     "text": [
      "Enter y to draw another shape (any other character to exit):  d\n"
     ]
    }
   ],
   "source": [
    "draw_shapes()"
   ]
  },
  {
   "cell_type": "code",
   "execution_count": null,
   "id": "07ae61e4-cb03-47d3-90a2-c28f106a37ec",
   "metadata": {},
   "outputs": [],
   "source": []
  }
 ],
 "metadata": {
  "kernelspec": {
   "display_name": "Python 3 (ipykernel)",
   "language": "python",
   "name": "python3"
  },
  "language_info": {
   "codemirror_mode": {
    "name": "ipython",
    "version": 3
   },
   "file_extension": ".py",
   "mimetype": "text/x-python",
   "name": "python",
   "nbconvert_exporter": "python",
   "pygments_lexer": "ipython3",
   "version": "3.12.5"
  }
 },
 "nbformat": 4,
 "nbformat_minor": 5
}
