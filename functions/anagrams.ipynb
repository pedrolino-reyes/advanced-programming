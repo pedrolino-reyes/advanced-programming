{
 "cells": [
  {
   "cell_type": "markdown",
   "metadata": {},
   "source": [
    "# Anagrams\n",
    "\n",
    "Write a program in Python that checks if two inputted words are ‘anagrams’. If the user inputs ‘note’ and ‘tone’, the program would output “These are anagrams”. If the user entered 'cat' and 'sat' the program would output \"These are not anagrams\". Your program should contain a function “isAnagram()” that returns either true or false. The main part of the program should provide a suitable interface for the user. "
   ]
  },
  {
   "cell_type": "code",
   "execution_count": 5,
   "metadata": {},
   "outputs": [],
   "source": [
    "def is_anagram(s1, s2):\n",
    "    \"\"\"Compares two strings and returns True if they are anagrams, False otherwise.\"\"\"\n",
    "    # If the strings are not the same length, they cannot be anagrams\n",
    "    # (best case running time - O(1))\n",
    "    if len(s1) != len(s2):\n",
    "        return False\n",
    "\n",
    "    # Othwerwise, iterate over each letter in the first string and check\n",
    "    # if it is in the second string (average and worst case running time - O(n))\n",
    "    for i in s1:\n",
    "        if i not in s2:\n",
    "            return False\n",
    "    return True\n",
    "\n",
    "\n",
    "def check_anagrams():\n",
    "    \"\"\"Prompts the user for two strings and prints whether they are anagrams.\"\"\"\n",
    "    s1 = input(\"Enter the first string: \")\n",
    "    s2 = input(\"Enter the second string: \")\n",
    "\n",
    "    if is_anagram(s1, s2):\n",
    "        print(f'The strings \"{s1}\" and \"{s2}\" are anagrams.')\n",
    "    else:\n",
    "        print(f'The strings \"{s1}\" and \"{s2}\" are not anagrams.')"
   ]
  },
  {
   "cell_type": "code",
   "execution_count": 6,
   "metadata": {},
   "outputs": [
    {
     "name": "stdout",
     "output_type": "stream",
     "text": [
      "The strings \"pickle\" and \"sickle\" are not anagrams.\n"
     ]
    }
   ],
   "source": [
    "check_anagrams()"
   ]
  }
 ],
 "metadata": {
  "kernelspec": {
   "display_name": "Python 3 (ipykernel)",
   "language": "python",
   "name": "python3"
  },
  "language_info": {
   "codemirror_mode": {
    "name": "ipython",
    "version": 3
   },
   "file_extension": ".py",
   "mimetype": "text/x-python",
   "name": "python",
   "nbconvert_exporter": "python",
   "pygments_lexer": "ipython3",
   "version": "3.12.5"
  }
 },
 "nbformat": 4,
 "nbformat_minor": 2
}
