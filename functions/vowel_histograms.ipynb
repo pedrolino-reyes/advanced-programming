{
 "cells": [
  {
   "cell_type": "markdown",
   "metadata": {},
   "source": [
    "# Vowel histograms\n",
    "\n",
    "Write a program in Python that asks the user for a sentence and analyses it to establish the number of separate vowels (A, E, I, O, U) and the number of “other” non-space characters contained in the sentence. Your program should output a histogram which indicates a * (star) for each vowel character, followed by a statement indicating the number of other non-space characters."
   ]
  },
  {
   "cell_type": "code",
   "execution_count": 3,
   "metadata": {},
   "outputs": [],
   "source": [
    "VOWELS = \"aeiou\"\n",
    "\n",
    "\n",
    "def build_count_dictionary(s: str) -> dict:\n",
    "    # create a dictionary to store the count of each vowel, initialising all counts to 0\n",
    "    counts = dict.fromkeys(VOWELS, 0)\n",
    "    counts[\"other\"] = 0\n",
    "\n",
    "    # iterate over the string, incrementing the count each time a vowel is found\n",
    "    for c in s:\n",
    "        if c in VOWELS:\n",
    "            counts[c] += 1\n",
    "        else:\n",
    "            counts[\"other\"] += 1\n",
    "    return counts\n",
    "\n",
    "\n",
    "def print_histogram(vowel_counts: dict) -> None:\n",
    "    \"\"\"Print a histogram of the letter frequencies in our vowels dictionary.\"\"\"\n",
    "    for key, value in vowel_counts.items():\n",
    "        if key in VOWELS:\n",
    "            print(f'{key}: {\"*\" * value}')\n",
    "        else:\n",
    "          print(f'Other (non-space) Characters: {value}')\n",
    "\n",
    "\n",
    "def count_vowels():\n",
    "    \"\"\"Main program. Counts the vowels and non-space characters in a string.\"\"\"\n",
    "    s = input(\"Please enter a string: \")\n",
    "    # prepare the string for counting by converting it to lowercase and stripping spaces\n",
    "    s = s.lower().replace(\" \", \"\")\n",
    "    vowel_counts = build_count_dictionary(s)\n",
    "    print_histogram(vowel_counts)"
   ]
  },
  {
   "cell_type": "code",
   "execution_count": 4,
   "metadata": {},
   "outputs": [
    {
     "name": "stdout",
     "output_type": "stream",
     "text": [
      "a: *****\n",
      "e: ***\n",
      "i: \n",
      "o: **\n",
      "u: *\n",
      "Other (non-space) Characters: 20\n"
     ]
    }
   ],
   "source": [
    "count_vowels()"
   ]
  }
 ],
 "metadata": {
  "kernelspec": {
   "display_name": "Python 3 (ipykernel)",
   "language": "python",
   "name": "python3"
  },
  "language_info": {
   "codemirror_mode": {
    "name": "ipython",
    "version": 3
   },
   "file_extension": ".py",
   "mimetype": "text/x-python",
   "name": "python",
   "nbconvert_exporter": "python",
   "pygments_lexer": "ipython3",
   "version": "3.12.5"
  }
 },
 "nbformat": 4,
 "nbformat_minor": 2
}
