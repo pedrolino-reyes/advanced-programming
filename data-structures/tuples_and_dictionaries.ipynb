{
 "cells": [
  {
   "cell_type": "markdown",
   "id": "73a61090-736a-4f1a-8e59-1c05278fe8e8",
   "metadata": {},
   "source": [
    "# Sales figures\n",
    "\n",
    "A business has a number of retail outlets across the world. Each outlet keeps a track of its monthly sales and sends a quarterly report to the company's headquarters. Using at least two different data structures, write a program that calculates the average for each outlet and each month, the total for each outlet and each month, and the grand total for the quarter.\n",
    "\n",
    "Sales by month table:\n",
    "\n",
    "|     | Apr 18 | May 18 | Jun 18 |\n",
    "|-----|--------|--------|--------|\n",
    "| L3  |   390  |   345  |   379  |\n",
    "| P2  |   250  |   270  |   300  |\n",
    "| N6  |   460  |   480  |   450  |\n",
    "| B8  |   470  |   510  |   360  |"
   ]
  },
  {
   "cell_type": "code",
   "execution_count": 44,
   "id": "2d897b8a-7c1f-45ea-82b0-f55f40fb3759",
   "metadata": {},
   "outputs": [],
   "source": [
    "# a dictionary with lists for the values\n",
    "sales_data = {\n",
    "    \"Apr 18\": [390, 250, 460, 470],\n",
    "    \"May 18\": [345, 270, 480, 510],\n",
    "    \"Jun 18\": [379, 300, 450, 360]\n",
    "}\n",
    "# we'll use a tuple to store the regions\n",
    "regions = (\"London\", \"Paris\", \"New York\", \"Beijing\")\n",
    "\n",
    "# and another dictionary for the region lookups\n",
    "region_codes = {\"London\": \"L3\", \"Paris\": \"P2\", \"New York\": \"N6\", \"Beijing\": \"B8\"}"
   ]
  },
  {
   "cell_type": "code",
   "execution_count": 46,
   "id": "af5a50fb-ee7a-4eb0-89d5-475d19717c3d",
   "metadata": {},
   "outputs": [],
   "source": [
    "# Calculate total and average sales per region\n",
    "total_sales_per_region = {}\n",
    "average_sales_per_region = {}\n",
    "for i, region in enumerate(regions):\n",
    "    total_sales = sum(sales_data[month][i] for month in sales_data) * 1000\n",
    "    average_sales = (total_sales / len(sales_data)) / 1000\n",
    "    total_sales_per_region[region] = total_sales\n",
    "    average_sales_per_region[region] = average_sales\n",
    "\n",
    "# Calculate total and average sales per month\n",
    "total_sales_per_month = {}\n",
    "average_sales_per_month = {}\n",
    "for month in sales_data:\n",
    "    total_sales = sum(sales_data[month]) * 1000\n",
    "    average_sales = (total_sales / len(sales_data[month])) / 1000\n",
    "    total_sales_per_month[month] = total_sales\n",
    "    average_sales_per_month[month] = average_sales\n",
    "\n",
    "# Calculate grand total\n",
    "grand_total = sum(total_sales_per_region.values())"
   ]
  },
  {
   "cell_type": "code",
   "execution_count": 49,
   "id": "9cd09db0-675f-442e-bdec-ad8ac9f42617",
   "metadata": {},
   "outputs": [],
   "source": [
    "# Generate report output\n",
    "report = \"Quarterly Sales Report\\n\\n\"\n",
    "for region in regions:\n",
    "    avg_sales = average_sales_per_region[region] * 1000\n",
    "    total_sales = total_sales_per_region[region]\n",
    "    # note how we format to 0 decimal places to format the averages nicely\n",
    "    # also, right alignment is used for the numbers to keep things tidy\n",
    "    report += f\"{region:<12} {region_codes[region]}:   ${avg_sales:>10,.0f}   ${total_sales:>10,}\\n\"\n",
    "\n",
    "report += \"\\n\"\n",
    "\n",
    "for month in sales_data:\n",
    "    avg_sales = average_sales_per_month[month] * 1000\n",
    "    total_sales = total_sales_per_month[month]\n",
    "    report += f\"{month:<14} :   ${avg_sales:>10,.0f}   ${total_sales:>10,}\\n\"\n",
    "\n",
    "report += f\"\\nTotal: ${grand_total:,.0f}\\n\""
   ]
  },
  {
   "cell_type": "code",
   "execution_count": 50,
   "id": "c863f559-2c40-404f-8b9d-09e705bb22ff",
   "metadata": {},
   "outputs": [
    {
     "name": "stdout",
     "output_type": "stream",
     "text": [
      "Quarterly Sales Report\n",
      "\n",
      "London       L3:   $   371,333   $ 1,114,000\n",
      "Paris        P2:   $   273,333   $   820,000\n",
      "New York     N6:   $   463,333   $ 1,390,000\n",
      "Beijing      B8:   $   446,667   $ 1,340,000\n",
      "\n",
      "Apr 18         :   $   392,500   $ 1,570,000\n",
      "May 18         :   $   401,250   $ 1,605,000\n",
      "Jun 18         :   $   372,250   $ 1,489,000\n",
      "\n",
      "Total: $4,664,000\n",
      "\n"
     ]
    }
   ],
   "source": [
    "print(report)"
   ]
  },
  {
   "cell_type": "code",
   "execution_count": null,
   "id": "f1e0e9e4-b5ce-46a5-a1bf-9e7e3fff85e9",
   "metadata": {},
   "outputs": [],
   "source": []
  }
 ],
 "metadata": {
  "kernelspec": {
   "display_name": "Python 3 (ipykernel)",
   "language": "python",
   "name": "python3"
  },
  "language_info": {
   "codemirror_mode": {
    "name": "ipython",
    "version": 3
   },
   "file_extension": ".py",
   "mimetype": "text/x-python",
   "name": "python",
   "nbconvert_exporter": "python",
   "pygments_lexer": "ipython3",
   "version": "3.12.5"
  }
 },
 "nbformat": 4,
 "nbformat_minor": 5
}
